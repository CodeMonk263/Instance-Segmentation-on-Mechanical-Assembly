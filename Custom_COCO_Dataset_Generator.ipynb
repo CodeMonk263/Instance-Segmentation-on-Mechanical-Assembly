{
 "cells": [
  {
   "cell_type": "code",
   "execution_count": 1,
   "metadata": {
    "colab": {
     "base_uri": "https://localhost:8080/"
    },
    "executionInfo": {
     "elapsed": 6607,
     "status": "ok",
     "timestamp": 1604488592034,
     "user": {
      "displayName": "SHAURYA VIJAYVARGIYA",
      "photoUrl": "",
      "userId": "08233561992264886040"
     },
     "user_tz": -330
    },
    "id": "o9GFMa3k9YA3",
    "outputId": "112856ef-f915-45c5-92ab-cea1d4b692ae"
   },
   "outputs": [
    {
     "name": "stdout",
     "output_type": "stream",
     "text": [
      "Cloning into 'cocosynth'...\n",
      "remote: Enumerating objects: 11, done.\u001b[K\n",
      "remote: Counting objects: 100% (11/11), done.\u001b[K\n",
      "remote: Compressing objects: 100% (10/10), done.\u001b[K\n",
      "remote: Total 59 (delta 2), reused 5 (delta 1), pack-reused 48\u001b[K\n",
      "Unpacking objects: 100% (59/59), done.\n"
     ]
    }
   ],
   "source": [
    "!git clone https://github.com/akTwelve/cocosynth.git"
   ]
  },
  {
   "cell_type": "code",
   "execution_count": 2,
   "metadata": {
    "colab": {
     "base_uri": "https://localhost:8080/"
    },
    "executionInfo": {
     "elapsed": 9713,
     "status": "ok",
     "timestamp": 1604488595187,
     "user": {
      "displayName": "SHAURYA VIJAYVARGIYA",
      "photoUrl": "",
      "userId": "08233561992264886040"
     },
     "user_tz": -330
    },
    "id": "E58yarnhALyj",
    "outputId": "1aaf6105-f4d2-4f37-ee1c-cd2860469aae"
   },
   "outputs": [
    {
     "name": "stdout",
     "output_type": "stream",
     "text": [
      "Requirement already satisfied: jupyter in /usr/local/lib/python3.6/dist-packages (from -r requirements.txt (line 1)) (1.0.0)\n",
      "Requirement already satisfied: notebook in /usr/local/lib/python3.6/dist-packages (from -r requirements.txt (line 2)) (5.3.1)\n",
      "Requirement already satisfied: Pillow in /usr/local/lib/python3.6/dist-packages (from -r requirements.txt (line 3)) (7.0.0)\n",
      "Requirement already satisfied: numpy in /usr/local/lib/python3.6/dist-packages (from -r requirements.txt (line 4)) (1.18.5)\n",
      "Requirement already satisfied: scikit-image in /usr/local/lib/python3.6/dist-packages (from -r requirements.txt (line 5)) (0.16.2)\n",
      "Requirement already satisfied: scipy in /usr/local/lib/python3.6/dist-packages (from -r requirements.txt (line 6)) (1.4.1)\n",
      "Requirement already satisfied: tqdm in /usr/local/lib/python3.6/dist-packages (from -r requirements.txt (line 7)) (4.41.1)\n",
      "Requirement already satisfied: Shapely in /usr/local/lib/python3.6/dist-packages (from -r requirements.txt (line 8)) (1.7.1)\n",
      "Requirement already satisfied: qtconsole in /usr/local/lib/python3.6/dist-packages (from jupyter->-r requirements.txt (line 1)) (4.7.7)\n",
      "Requirement already satisfied: jupyter-console in /usr/local/lib/python3.6/dist-packages (from jupyter->-r requirements.txt (line 1)) (5.2.0)\n",
      "Requirement already satisfied: nbconvert in /usr/local/lib/python3.6/dist-packages (from jupyter->-r requirements.txt (line 1)) (5.6.1)\n",
      "Requirement already satisfied: ipykernel in /usr/local/lib/python3.6/dist-packages (from jupyter->-r requirements.txt (line 1)) (4.10.1)\n",
      "Requirement already satisfied: ipywidgets in /usr/local/lib/python3.6/dist-packages (from jupyter->-r requirements.txt (line 1)) (7.5.1)\n",
      "Requirement already satisfied: jinja2 in /usr/local/lib/python3.6/dist-packages (from notebook->-r requirements.txt (line 2)) (2.11.2)\n",
      "Requirement already satisfied: jupyter-core>=4.4.0 in /usr/local/lib/python3.6/dist-packages (from notebook->-r requirements.txt (line 2)) (4.6.3)\n",
      "Requirement already satisfied: ipython-genutils in /usr/local/lib/python3.6/dist-packages (from notebook->-r requirements.txt (line 2)) (0.2.0)\n",
      "Requirement already satisfied: Send2Trash in /usr/local/lib/python3.6/dist-packages (from notebook->-r requirements.txt (line 2)) (1.5.0)\n",
      "Requirement already satisfied: jupyter-client>=5.2.0 in /usr/local/lib/python3.6/dist-packages (from notebook->-r requirements.txt (line 2)) (5.3.5)\n",
      "Requirement already satisfied: terminado>=0.8.1 in /usr/local/lib/python3.6/dist-packages (from notebook->-r requirements.txt (line 2)) (0.9.1)\n",
      "Requirement already satisfied: tornado>=4 in /usr/local/lib/python3.6/dist-packages (from notebook->-r requirements.txt (line 2)) (5.1.1)\n",
      "Requirement already satisfied: nbformat in /usr/local/lib/python3.6/dist-packages (from notebook->-r requirements.txt (line 2)) (5.0.8)\n",
      "Requirement already satisfied: traitlets>=4.2.1 in /usr/local/lib/python3.6/dist-packages (from notebook->-r requirements.txt (line 2)) (4.3.3)\n",
      "Requirement already satisfied: networkx>=2.0 in /usr/local/lib/python3.6/dist-packages (from scikit-image->-r requirements.txt (line 5)) (2.5)\n",
      "Requirement already satisfied: matplotlib!=3.0.0,>=2.0.0 in /usr/local/lib/python3.6/dist-packages (from scikit-image->-r requirements.txt (line 5)) (3.2.2)\n",
      "Requirement already satisfied: imageio>=2.3.0 in /usr/local/lib/python3.6/dist-packages (from scikit-image->-r requirements.txt (line 5)) (2.4.1)\n",
      "Requirement already satisfied: PyWavelets>=0.4.0 in /usr/local/lib/python3.6/dist-packages (from scikit-image->-r requirements.txt (line 5)) (1.1.1)\n",
      "Requirement already satisfied: pygments in /usr/local/lib/python3.6/dist-packages (from qtconsole->jupyter->-r requirements.txt (line 1)) (2.6.1)\n",
      "Requirement already satisfied: qtpy in /usr/local/lib/python3.6/dist-packages (from qtconsole->jupyter->-r requirements.txt (line 1)) (1.9.0)\n",
      "Requirement already satisfied: pyzmq>=17.1 in /usr/local/lib/python3.6/dist-packages (from qtconsole->jupyter->-r requirements.txt (line 1)) (19.0.2)\n",
      "Requirement already satisfied: ipython in /usr/local/lib/python3.6/dist-packages (from jupyter-console->jupyter->-r requirements.txt (line 1)) (5.5.0)\n",
      "Requirement already satisfied: prompt-toolkit<2.0.0,>=1.0.0 in /usr/local/lib/python3.6/dist-packages (from jupyter-console->jupyter->-r requirements.txt (line 1)) (1.0.18)\n",
      "Requirement already satisfied: mistune<2,>=0.8.1 in /usr/local/lib/python3.6/dist-packages (from nbconvert->jupyter->-r requirements.txt (line 1)) (0.8.4)\n",
      "Requirement already satisfied: bleach in /usr/local/lib/python3.6/dist-packages (from nbconvert->jupyter->-r requirements.txt (line 1)) (3.2.1)\n",
      "Requirement already satisfied: pandocfilters>=1.4.1 in /usr/local/lib/python3.6/dist-packages (from nbconvert->jupyter->-r requirements.txt (line 1)) (1.4.2)\n",
      "Requirement already satisfied: entrypoints>=0.2.2 in /usr/local/lib/python3.6/dist-packages (from nbconvert->jupyter->-r requirements.txt (line 1)) (0.3)\n",
      "Requirement already satisfied: defusedxml in /usr/local/lib/python3.6/dist-packages (from nbconvert->jupyter->-r requirements.txt (line 1)) (0.6.0)\n",
      "Requirement already satisfied: testpath in /usr/local/lib/python3.6/dist-packages (from nbconvert->jupyter->-r requirements.txt (line 1)) (0.4.4)\n",
      "Requirement already satisfied: widgetsnbextension~=3.5.0 in /usr/local/lib/python3.6/dist-packages (from ipywidgets->jupyter->-r requirements.txt (line 1)) (3.5.1)\n",
      "Requirement already satisfied: MarkupSafe>=0.23 in /usr/local/lib/python3.6/dist-packages (from jinja2->notebook->-r requirements.txt (line 2)) (1.1.1)\n",
      "Requirement already satisfied: python-dateutil>=2.1 in /usr/local/lib/python3.6/dist-packages (from jupyter-client>=5.2.0->notebook->-r requirements.txt (line 2)) (2.8.1)\n",
      "Requirement already satisfied: ptyprocess; os_name != \"nt\" in /usr/local/lib/python3.6/dist-packages (from terminado>=0.8.1->notebook->-r requirements.txt (line 2)) (0.6.0)\n",
      "Requirement already satisfied: jsonschema!=2.5.0,>=2.4 in /usr/local/lib/python3.6/dist-packages (from nbformat->notebook->-r requirements.txt (line 2)) (2.6.0)\n",
      "Requirement already satisfied: decorator in /usr/local/lib/python3.6/dist-packages (from traitlets>=4.2.1->notebook->-r requirements.txt (line 2)) (4.4.2)\n",
      "Requirement already satisfied: six in /usr/local/lib/python3.6/dist-packages (from traitlets>=4.2.1->notebook->-r requirements.txt (line 2)) (1.15.0)\n",
      "Requirement already satisfied: pyparsing!=2.0.4,!=2.1.2,!=2.1.6,>=2.0.1 in /usr/local/lib/python3.6/dist-packages (from matplotlib!=3.0.0,>=2.0.0->scikit-image->-r requirements.txt (line 5)) (2.4.7)\n",
      "Requirement already satisfied: cycler>=0.10 in /usr/local/lib/python3.6/dist-packages (from matplotlib!=3.0.0,>=2.0.0->scikit-image->-r requirements.txt (line 5)) (0.10.0)\n",
      "Requirement already satisfied: kiwisolver>=1.0.1 in /usr/local/lib/python3.6/dist-packages (from matplotlib!=3.0.0,>=2.0.0->scikit-image->-r requirements.txt (line 5)) (1.2.0)\n",
      "Requirement already satisfied: pickleshare in /usr/local/lib/python3.6/dist-packages (from ipython->jupyter-console->jupyter->-r requirements.txt (line 1)) (0.7.5)\n",
      "Requirement already satisfied: setuptools>=18.5 in /usr/local/lib/python3.6/dist-packages (from ipython->jupyter-console->jupyter->-r requirements.txt (line 1)) (50.3.2)\n",
      "Requirement already satisfied: simplegeneric>0.8 in /usr/local/lib/python3.6/dist-packages (from ipython->jupyter-console->jupyter->-r requirements.txt (line 1)) (0.8.1)\n",
      "Requirement already satisfied: pexpect; sys_platform != \"win32\" in /usr/local/lib/python3.6/dist-packages (from ipython->jupyter-console->jupyter->-r requirements.txt (line 1)) (4.8.0)\n",
      "Requirement already satisfied: wcwidth in /usr/local/lib/python3.6/dist-packages (from prompt-toolkit<2.0.0,>=1.0.0->jupyter-console->jupyter->-r requirements.txt (line 1)) (0.2.5)\n",
      "Requirement already satisfied: packaging in /usr/local/lib/python3.6/dist-packages (from bleach->nbconvert->jupyter->-r requirements.txt (line 1)) (20.4)\n",
      "Requirement already satisfied: webencodings in /usr/local/lib/python3.6/dist-packages (from bleach->nbconvert->jupyter->-r requirements.txt (line 1)) (0.5.1)\n"
     ]
    }
   ],
   "source": [
    "import os\n",
    "os.chdir(\"cocosynth\")\n",
    "!pip install -r requirements.txt"
   ]
  },
  {
   "cell_type": "code",
   "execution_count": 1,
   "metadata": {
    "colab": {
     "base_uri": "https://localhost:8080/"
    },
    "executionInfo": {
     "elapsed": 2015340,
     "status": "ok",
     "timestamp": 1604425842194,
     "user": {
      "displayName": "SHAURYA VIJAYVARGIYA",
      "photoUrl": "",
      "userId": "08233561992264886040"
     },
     "user_tz": -330
    },
    "id": "OcJi0qijDqXf",
    "outputId": "5be42ec6-ac7d-4620-c568-c156f8e7ff30"
   },
   "outputs": [
    {
     "name": "stderr",
     "output_type": "stream",
     "text": [
      "python: can't open file './python/image_composition.py': [Errno 2] No such file or directory\n"
     ]
    }
   ],
   "source": [
    "# Generate Training Images with their Mask Definitions and Dataset Info\n",
    "# Words in CAPS to be replaced by desired paths and values\n",
    "\n",
    "!python ./python/image_composition.py --input_dir INPUT_DIR --output_dir OUTPUT_DIR_TRAIN --count NUM_IMAGES --width WIDTH --height HEIGHT"
   ]
  },
  {
   "cell_type": "code",
   "execution_count": null,
   "metadata": {
    "colab": {
     "base_uri": "https://localhost:8080/"
    },
    "executionInfo": {
     "elapsed": 96561,
     "status": "ok",
     "timestamp": 1604425971102,
     "user": {
      "displayName": "SHAURYA VIJAYVARGIYA",
      "photoUrl": "",
      "userId": "08233561992264886040"
     },
     "user_tz": -330
    },
    "id": "bG28GjA7nRr_",
    "outputId": "3a0ae44a-1eed-4269-e7f6-99b4db55784f"
   },
   "outputs": [
    {
     "name": "stdout",
     "output_type": "stream",
     "text": [
      "Generating 300 images with masks...\n",
      "100% 300/300 [01:01<00:00,  4.91it/s]\n",
      "Would you like to create dataset info json? (y/n) y\n",
      "Note: you can always modify the json manually if you need to update this.\n",
      "Description: y\n",
      "URL: y\n",
      "Version: \n",
      "Contributor: CodeMonk263\n",
      "Add an image license? (y/n) y\n",
      "License name: \n",
      "License URL: \n",
      "Successfully created {output_file_path}\n",
      "Image composition completed.\n"
     ]
    }
   ],
   "source": [
    "# Generate Validation Images with their Mask Definitions and Dataset Info\n",
    "# Words in CAPS to be replaced by desired paths and values\n",
    "\n",
    "!python ./python/image_composition.py --input_dir INPUT_DIR --output_dir OUTPUT_DIR_VAL --count NUM_IMAGES --width WIDTH --height HEIGHT"
   ]
  },
  {
   "cell_type": "code",
   "execution_count": null,
   "metadata": {
    "colab": {
     "base_uri": "https://localhost:8080/"
    },
    "id": "v2y_rpFqtSUb",
    "outputId": "e7270175-0374-44e4-d140-7dbd4ba915a0"
   },
   "outputs": [
    {
     "name": "stdout",
     "output_type": "stream",
     "text": [
      "Processing 10000 mask definitions...\n",
      " 36% 3586/10000 [2:05:33<3:40:03,  2.06s/it]"
     ]
    }
   ],
   "source": [
    "# Process Training Images using their mask definitions and dataset info json files generated in previous step and generate\n",
    "# COCO instances json file\n",
    "\n",
    "!python ./python/coco_json_utils.py -md {IMAGES_TRAIN_DIR}/train/mask_definitions.json -di {IMAGES_TRAIN_DIR}/train/dataset_info.json"
   ]
  },
  {
   "cell_type": "code",
   "execution_count": 3,
   "metadata": {
    "colab": {
     "base_uri": "https://localhost:8080/"
    },
    "executionInfo": {
     "elapsed": 922283,
     "status": "ok",
     "timestamp": 1604489510018,
     "user": {
      "displayName": "SHAURYA VIJAYVARGIYA",
      "photoUrl": "",
      "userId": "08233561992264886040"
     },
     "user_tz": -330
    },
    "id": "cYh7oLJVuI0k",
    "outputId": "352309d5-8ce3-40d8-8bd2-a81c6932e7ff"
   },
   "outputs": [
    {
     "name": "stdout",
     "output_type": "stream",
     "text": [
      "Processing 300 mask definitions...\n",
      "100% 300/300 [15:09<00:00,  3.03s/it]\n",
      "Annotations successfully written to file:\n",
      "../drive/My Drive/CS DOP/mechanics_dataset_2/val/coco_instances.json\n"
     ]
    }
   ],
   "source": [
    "# Process Validation Images using their mask definitions and dataset info json files generated in previous step and generate\n",
    "# COCO instances json file\n",
    "\n",
    "!python ./python/coco_json_utils.py -md {IMAGES_VAL_DIR}/val/mask_definitions.json -di {IMAGES_VAL_DIR}/val/dataset_info.json"
   ]
  }
 ],
 "metadata": {
  "colab": {
   "authorship_tag": "ABX9TyNu6hSgOTwCiV1WKCnqbPWf",
   "collapsed_sections": [],
   "mount_file_id": "1ga4x0tcdUyRvkLlAYBLBR0KIkvQLKr_L",
   "name": "Custom COCO Dataset.ipynb",
   "provenance": []
  },
  "kernelspec": {
   "display_name": "Python 3",
   "language": "python",
   "name": "python3"
  },
  "language_info": {
   "codemirror_mode": {
    "name": "ipython",
    "version": 3
   },
   "file_extension": ".py",
   "mimetype": "text/x-python",
   "name": "python",
   "nbconvert_exporter": "python",
   "pygments_lexer": "ipython3",
   "version": "3.8.5"
  }
 },
 "nbformat": 4,
 "nbformat_minor": 1
}
